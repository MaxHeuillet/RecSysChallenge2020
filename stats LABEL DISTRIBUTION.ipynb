{
 "cells": [
  {
   "cell_type": "code",
   "execution_count": 5,
   "metadata": {},
   "outputs": [],
   "source": [
    "%load_ext autoreload\n",
    "%autoreload 2\n",
    "\n",
    "import warnings\n",
    "warnings.filterwarnings(\"ignore\", category=FutureWarning)\n",
    "\n",
    "import pandas as pd\n",
    "import matplotlib.pyplot as plt\n",
    "import collections\n",
    "import re\n",
    "import pprint as pp\n",
    "import numpy as np\n",
    "import multiprocessing as mp\n",
    "from multiprocessing import Process\n",
    "\n",
    "import math\n",
    "import gzip\n",
    "import pickle as pkl\n",
    "import time\n",
    "\n",
    "from sklearn.model_selection import train_test_split \n",
    "from sklearn.metrics import precision_recall_curve, auc, log_loss\n",
    "from sklearn.preprocessing import StandardScaler\n",
    "\n",
    "\n",
    "import tensorflow as tf\n",
    "#tf.compat.v1.enable_eager_execution()\n",
    "\n",
    "import fonctions\n",
    "import modeles\n",
    "\n",
    "import random\n",
    "import os\n",
    "random.seed(0)\n",
    "\n",
    "from os import listdir\n",
    "from tqdm.notebook import tqdm\n",
    "from os.path import isfile, join\n",
    "from multiprocessing.pool import ThreadPool\n",
    "from sklearn.utils import shuffle"
   ]
  },
  {
   "cell_type": "code",
   "execution_count": 45,
   "metadata": {},
   "outputs": [],
   "source": [
    "def descriptive_stats_on_chunk(chunk):\n",
    "    \n",
    "    directory = '/home/maxime/Desktop/RecSys2020/data/batches/'\n",
    "    \n",
    "    imbalance = {'reply_timestamp':[]  ,'retweet_timestamp':[],\n",
    "                 'retweet_with_comment_timestamp':[],'like_timestamp':[] }\n",
    "    \n",
    "    proportions = {'hashtags':[], 'present_links':[], 'present_domains':[]}\n",
    "    \n",
    "    for batch_file in tqdm(chunk):\n",
    "        \n",
    "        X, y = fonctions.get_batch(directory, batch_file, False)\n",
    "        \n",
    "        taille = len(y.index)\n",
    "        \n",
    "        imbalance['reply_timestamp'].append( y['reply_timestamp'].value_counts()[1] / taille )\n",
    "        imbalance['retweet_timestamp'].append( y['retweet_timestamp'].value_counts()[1] / taille )\n",
    "        imbalance['retweet_with_comment_timestamp'].append( y['retweet_with_comment_timestamp'].value_counts()[1] / taille )\n",
    "        imbalance['like_timestamp'].append( y['like_timestamp'].value_counts()[1] / taille )\n",
    "        \n",
    "        proportions['hashtags'].append( len( X.hashtags[ X.hashtags > 0 ]) / taille )\n",
    "        proportions['present_links'].append( len( X.present_links[ X.present_links > 0 ]) / taille ) \n",
    "        proportions['present_domains'].append( len( X.present_domains[ X.present_domains > 0 ]) / taille )\n",
    "\n",
    "    return imbalance, proportions"
   ]
  },
  {
   "cell_type": "code",
   "execution_count": 56,
   "metadata": {
    "scrolled": true
   },
   "outputs": [
    {
     "data": {
      "application/vnd.jupyter.widget-view+json": {
       "model_id": "3b1c7f790d6a47bba0d1e9c6a0c7e8f8",
       "version_major": 2,
       "version_minor": 0
      },
      "text/plain": [
       "HBox(children=(FloatProgress(value=0.0, max=590.0), HTML(value='')))"
      ]
     },
     "metadata": {},
     "output_type": "display_data"
    },
    {
     "name": "stdout",
     "output_type": "stream",
     "text": [
      "\n"
     ]
    }
   ],
   "source": [
    "batch_path='/home/maxime/Desktop/RecSys2020/data/batches'\n",
    "batch_list = [f for f in listdir(batch_path) if isfile(join(batch_path, f))]\n",
    "chunks = fonctions.chunkIt(batch_list, 8)\n",
    "\n",
    "imbalance, proportions = descriptive_stats_on_chunk(chunks[0])"
   ]
  },
  {
   "cell_type": "code",
   "execution_count": 58,
   "metadata": {},
   "outputs": [],
   "source": [
    "targets = ['reply_timestamp','retweet_timestamp', 'retweet_with_comment_timestamp','like_timestamp']\n",
    "trends = ['hashtags','present_links','present_domains']\n",
    "\n",
    "imbalance_mean = [ np.mean(imbalance[target]) for target in targets]\n",
    "imbalance_sd = [ np.std(imbalance[target]) for target in targets]\n",
    "\n",
    "proportions_mean = [ np.mean(proportions[trend]) for trend in trends]\n",
    "proportions_sd = [ np.std(proportions[trend]) for trend in trends]"
   ]
  },
  {
   "cell_type": "code",
   "execution_count": 60,
   "metadata": {},
   "outputs": [
    {
     "name": "stdout",
     "output_type": "stream",
     "text": [
      "[0.02690271186440678,\n",
      " 0.11227468926553673,\n",
      " 0.007690225988700564,\n",
      " 0.4382363276836158]\n",
      "[0.0009542590571955029,\n",
      " 0.0024189489802351797,\n",
      " 0.0005286023800893022,\n",
      " 0.0038099730955308123]\n",
      "[0.19825265536723163, 0.1376571186440678, 0.1376571186440678]\n",
      "[0.0024603468268410656, 0.0020447086603468958, 0.0020447086603468958]\n"
     ]
    }
   ],
   "source": [
    "pp.pprint(imbalance_mean)\n",
    "pp.pprint(imbalance_sd)\n",
    "pp.pprint(proportions_mean)\n",
    "pp.pprint(proportions_sd)"
   ]
  },
  {
   "cell_type": "code",
   "execution_count": null,
   "metadata": {},
   "outputs": [],
   "source": [
    "### calculer la presence moyenne, quotidienne et la variance \n",
    "### des utilisateurs non reguliers sur un chunk pour pouvoir mettre ces valeurs dans la base d'entrainement :"
   ]
  },
  {
   "cell_type": "code",
   "execution_count": 14,
   "metadata": {
    "scrolled": true
   },
   "outputs": [
    {
     "name": "stdout",
     "output_type": "stream",
     "text": [
      "agregating user presence\n",
      "formating user presence\n"
     ]
    },
    {
     "data": {
      "application/vnd.jupyter.widget-view+json": {
       "model_id": "333aaac822b4459fa2a29104176c20c2",
       "version_major": 2,
       "version_minor": 0
      },
      "text/plain": [
       "HBox(children=(FloatProgress(value=0.0, max=3753173.0), HTML(value='')))"
      ]
     },
     "metadata": {},
     "output_type": "display_data"
    },
    {
     "name": "stdout",
     "output_type": "stream",
     "text": [
      "\n"
     ]
    }
   ],
   "source": [
    "import metric_loading\n",
    "\n",
    "user = metric_loading.get_global_user_presence(False)"
   ]
  },
  {
   "cell_type": "code",
   "execution_count": 15,
   "metadata": {},
   "outputs": [
    {
     "data": {
      "application/vnd.jupyter.widget-view+json": {
       "model_id": "f535ed509a3849b991c2c7b8ce4e7e55",
       "version_major": 2,
       "version_minor": 0
      },
      "text/plain": [
       "HBox(children=(FloatProgress(value=0.0, max=3753173.0), HTML(value='')))"
      ]
     },
     "metadata": {},
     "output_type": "display_data"
    },
    {
     "name": "stdout",
     "output_type": "stream",
     "text": [
      "\n",
      "1.4379483706186738\n"
     ]
    },
    {
     "data": {
      "application/vnd.jupyter.widget-view+json": {
       "model_id": "c85a42a1d76d40c6ab16d5e1a57e9ba1",
       "version_major": 2,
       "version_minor": 0
      },
      "text/plain": [
       "HBox(children=(FloatProgress(value=0.0, max=3753173.0), HTML(value='')))"
      ]
     },
     "metadata": {},
     "output_type": "display_data"
    },
    {
     "name": "stdout",
     "output_type": "stream",
     "text": [
      "\n",
      "0.2055893584021628\n"
     ]
    },
    {
     "data": {
      "application/vnd.jupyter.widget-view+json": {
       "model_id": "fd1d425a2dd7455ebbf6ac2c1dc750e4",
       "version_major": 2,
       "version_minor": 0
      },
      "text/plain": [
       "HBox(children=(FloatProgress(value=0.0, max=3753173.0), HTML(value='')))"
      ]
     },
     "metadata": {},
     "output_type": "display_data"
    },
    {
     "name": "stdout",
     "output_type": "stream",
     "text": [
      "\n",
      "0.4120845783282576\n"
     ]
    }
   ],
   "source": [
    "mean_presence = sum( [ v[0] for v in tqdm(user.values()) ] )/3753173\n",
    "print(mean_presence)\n",
    "\n",
    "mean_daily_presence = sum( [ v[1] for v in tqdm(user.values()) ] )/3753173\n",
    "print(mean_daily_presence)\n",
    "\n",
    "mean_std_presence = sum( [ v[2] for v in tqdm(user.values()) ] )/3753173\n",
    "print(mean_std_presence)"
   ]
  },
  {
   "cell_type": "code",
   "execution_count": 16,
   "metadata": {},
   "outputs": [
    {
     "name": "stdout",
     "output_type": "stream",
     "text": [
      "author presence aggregation\n",
      "author presence formating\n"
     ]
    },
    {
     "data": {
      "application/vnd.jupyter.widget-view+json": {
       "model_id": "981810edeb3647fc8c2296cedf0450f8",
       "version_major": 2,
       "version_minor": 0
      },
      "text/plain": [
       "HBox(children=(FloatProgress(value=0.0, max=5808253.0), HTML(value='')))"
      ]
     },
     "metadata": {},
     "output_type": "display_data"
    },
    {
     "name": "stdout",
     "output_type": "stream",
     "text": [
      "\n"
     ]
    }
   ],
   "source": [
    "author = metric_loading.get_global_author_presence(False)"
   ]
  },
  {
   "cell_type": "code",
   "execution_count": 17,
   "metadata": {},
   "outputs": [
    {
     "data": {
      "application/vnd.jupyter.widget-view+json": {
       "model_id": "c1906f8af05d4aa49df3726a77a264f0",
       "version_major": 2,
       "version_minor": 0
      },
      "text/plain": [
       "HBox(children=(FloatProgress(value=0.0, max=5808253.0), HTML(value='')))"
      ]
     },
     "metadata": {},
     "output_type": "display_data"
    },
    {
     "name": "stdout",
     "output_type": "stream",
     "text": [
      "\n",
      "1.2841775315228177\n"
     ]
    },
    {
     "data": {
      "application/vnd.jupyter.widget-view+json": {
       "model_id": "4beef2e7df904c70a7aba91d43fa9f1c",
       "version_major": 2,
       "version_minor": 0
      },
      "text/plain": [
       "HBox(children=(FloatProgress(value=0.0, max=5808253.0), HTML(value='')))"
      ]
     },
     "metadata": {},
     "output_type": "display_data"
    },
    {
     "name": "stdout",
     "output_type": "stream",
     "text": [
      "\n",
      "0.18363738667565704\n"
     ]
    },
    {
     "data": {
      "application/vnd.jupyter.widget-view+json": {
       "model_id": "a49e41ef8f344e92a329230470d887b8",
       "version_major": 2,
       "version_minor": 0
      },
      "text/plain": [
       "HBox(children=(FloatProgress(value=0.0, max=5808253.0), HTML(value='')))"
      ]
     },
     "metadata": {},
     "output_type": "display_data"
    },
    {
     "name": "stdout",
     "output_type": "stream",
     "text": [
      "\n",
      "0.3888680324798434\n"
     ]
    }
   ],
   "source": [
    "mean_presence = sum( [ v[0] for v in tqdm(author.values()) ] )/5808253\n",
    "print(mean_presence)\n",
    "\n",
    "mean_daily_presence = sum( [ v[1] for v in tqdm(author.values()) ] )/5808253\n",
    "print(mean_daily_presence)\n",
    "\n",
    "mean_std_presence = sum( [ v[2] for v in tqdm(author.values()) ] )/5808253\n",
    "print(mean_std_presence)"
   ]
  },
  {
   "cell_type": "code",
   "execution_count": null,
   "metadata": {},
   "outputs": [],
   "source": [
    "from sklearn.utils import class_weight\n",
    "\n"
   ]
  }
 ],
 "metadata": {
  "kernelspec": {
   "display_name": "Python 3",
   "language": "python",
   "name": "python3"
  },
  "language_info": {
   "codemirror_mode": {
    "name": "ipython",
    "version": 3
   },
   "file_extension": ".py",
   "mimetype": "text/x-python",
   "name": "python",
   "nbconvert_exporter": "python",
   "pygments_lexer": "ipython3",
   "version": "3.6.10"
  }
 },
 "nbformat": 4,
 "nbformat_minor": 4
}
