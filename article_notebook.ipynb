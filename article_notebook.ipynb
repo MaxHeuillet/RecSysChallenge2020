{
 "cells": [
  {
   "cell_type": "markdown",
   "metadata": {},
   "source": [
    "# A neural network approach to privacy preservingmulti-engagement prediction on Twitter - code"
   ]
  },
  {
   "cell_type": "markdown",
   "metadata": {},
   "source": [
    "This notebook contains all the results presented in our paper : \"A neural network approach to privacy preservingmulti-engagement prediction on Twitter\""
   ]
  },
  {
   "cell_type": "code",
   "execution_count": 1,
   "metadata": {},
   "outputs": [
    {
     "name": "stderr",
     "output_type": "stream",
     "text": [
      "Using TensorFlow backend.\n"
     ]
    }
   ],
   "source": [
    "#### requirements\n",
    "\n",
    "%load_ext autoreload\n",
    "%autoreload 2\n",
    "\n",
    "import warnings\n",
    "warnings.filterwarnings(\"ignore\", category=FutureWarning)\n",
    "\n",
    "import pandas as pd\n",
    "import collections\n",
    "import re\n",
    "import pprint as pp\n",
    "import numpy as np\n",
    "import collections\n",
    "\n",
    "import multiprocessing as mp\n",
    "from multiprocessing.pool import ThreadPool\n",
    "\n",
    "import math\n",
    "import gzip\n",
    "import pickle as pkl\n",
    "import matplotlib.pyplot as plt\n",
    "\n",
    "from sklearn.feature_extraction.text import CountVectorizer \n",
    "\n",
    "import fonctions\n",
    "from batch_processing import *\n",
    "import metric_loading\n",
    "\n",
    "import itertools\n",
    "from datetime import datetime\n",
    "from tqdm.notebook import tqdm\n",
    "\n",
    "import os\n",
    "from os import listdir\n",
    "from os.path import isfile, join\n",
    "\n",
    "import random\n",
    "random.seed(0)\n",
    "\n"
   ]
  },
  {
   "cell_type": "markdown",
   "metadata": {},
   "source": [
    "# Section 2 : Dataset Characteristics"
   ]
  },
  {
   "cell_type": "markdown",
   "metadata": {},
   "source": [
    "## Section 2.1 : Severe imbalance"
   ]
  },
  {
   "cell_type": "code",
   "execution_count": null,
   "metadata": {},
   "outputs": [],
   "source": [
    "user_ratio = metric_loading.get_global_user_ratio2(True)"
   ]
  },
  {
   "cell_type": "code",
   "execution_count": null,
   "metadata": {},
   "outputs": [],
   "source": [
    "# library\n",
    "import matplotlib.pyplot as plt\n",
    " \n",
    "# Create bars\n",
    "\n",
    "nbrs= somme3\n",
    "lbl=['LK', 'RTC', 'LK+RT','RT','LK+RTC','RPL','LK+RPL','RT+RPL','LK+RT+RPL','LK+RTC+RPL','RTC+RPL']\n",
    "dico = dict(zip(lbl,nbrs))\n",
    "\n",
    "dico = {k: v for k, v in sorted(dico.items(),reverse=True, key=lambda item: item[1])}\n",
    "\n",
    "bars = list(dico.values())\n",
    " \n",
    "# The X position of bars\n",
    "\n",
    "r = range(11)\n",
    " \n",
    "# Create barplot\n",
    "plt.bar(r, bars, color = (0.3,0.5,0.4,0.6) ) #width = barWidth, \n",
    " \n",
    "# Text below each barplot with a rotation at 90°\n",
    "plt.xticks([r for r in range(len(r))], dico.keys(), rotation=90)\n",
    " \n",
    "# Create labels\n",
    "label = [str(x)+'%' for x in dico.values() ]\n",
    " \n",
    "# Text on the top of each barplot\n",
    "for i in range(len(r)):\n",
    "    plt.text(x = r[i]-0.4 , y = bars[i]+0.5, s = label[i], size = 8)\n",
    "    \n",
    "plt.xlabel('Engagement type')\n",
    "plt.ylabel('Frequency')\n",
    "\n",
    "# Adjust the margins\n",
    "#plt.subplots_adjust(bottom= 0.1, top = 0.98)\n",
    "plt.savefig('/home/maxime/Desktop/RecSys2020/engagement_distribution_relat.png', bbox_inches='tight')\n",
    "\n",
    "# Show graphic\n",
    "plt.show()"
   ]
  },
  {
   "cell_type": "code",
   "execution_count": null,
   "metadata": {},
   "outputs": [],
   "source": [
    "# library\n",
    "import matplotlib.pyplot as plt\n",
    " \n",
    "# Create bars\n",
    "\n",
    "dico = {'LK':34.8, 'RTC':0.44, \n",
    "              'LK+RT': 4.73,'RT':4.56,\n",
    "              'LK+RTC': 0.28,'RPL':1.66,\n",
    "              'LK+RPL':0.83,'RT+RPL': 0.05,\n",
    "              'LK+RT+RPL': 0.14,'LK+RTC+RPL':0.002,'RTC+RPL':0.002}\n",
    "dico = {k: v for k, v in sorted(dico.items(),reverse=True, key=lambda item: item[1])}\n",
    "\n",
    "bars = list(dico.values())\n",
    " \n",
    "# The X position of bars\n",
    "\n",
    "r = range(11)\n",
    " \n",
    "# Create barplot\n",
    "plt.bar(r, bars, color = (0.3,0.5,0.4,0.6) ) #width = barWidth, \n",
    " \n",
    "# Text below each barplot with a rotation at 90°\n",
    "plt.xticks([r for r in range(len(r))], dico.keys(), rotation=90)\n",
    " \n",
    "# Create labels\n",
    "label = [str(x)+'%' for x in dico.values() ]\n",
    " \n",
    "# Text on the top of each barplot\n",
    "for i in range(len(r)):\n",
    "    plt.text(x = r[i]-0.4 , y = bars[i]+0.5, s = label[i], size = 8)\n",
    "    \n",
    "plt.xlabel('Engagement type')\n",
    "plt.ylabel('Frequency')\n",
    "\n",
    "# Adjust the margins\n",
    "#plt.subplots_adjust(bottom= 0.1, top = 0.98)\n",
    "plt.savefig('/home/maxime/Desktop/RecSys2020/engagement_distribution.png', bbox_inches='tight')\n",
    "\n",
    "# Show graphic\n",
    "plt.show()"
   ]
  },
  {
   "cell_type": "markdown",
   "metadata": {},
   "source": [
    "## Section 2.2 : Different categories of users"
   ]
  },
  {
   "cell_type": "code",
   "execution_count": null,
   "metadata": {},
   "outputs": [],
   "source": [
    "user_presence =  metric_loading.get_global_user_presence(False) \n",
    "user_ratio_t = metric_loading.get_global_user_ratio2(True)\n",
    "print(len(user_presence))\n",
    "print(len(user_ratio_t))\n",
    "overlap = [ k for k in user_presence if k in user_ratio_t]\n",
    "print( len(overlap) )\n",
    "\n",
    "update_user_ratio = { k:user_ratio_t[k] for k,v in tqdm(user_presence.items() ) if k in user_ratio_t }\n",
    "\n",
    "print( len(update_user_ratio.keys()) )"
   ]
  },
  {
   "cell_type": "code",
   "execution_count": null,
   "metadata": {},
   "outputs": [],
   "source": [
    "1873604/6561475"
   ]
  },
  {
   "cell_type": "markdown",
   "metadata": {},
   "source": [
    "# Section 3 : Experiments"
   ]
  },
  {
   "cell_type": "markdown",
   "metadata": {},
   "source": [
    "### Fold1"
   ]
  },
  {
   "cell_type": "code",
   "execution_count": 15,
   "metadata": {},
   "outputs": [
    {
     "name": "stdout",
     "output_type": "stream",
     "text": [
      "11.364470590608933\n",
      "0.6700475605513339\n",
      "6.751337284120817\n",
      "0.23058123604529718\n",
      "1.2399614780955526\n",
      "0.01212750341245822\n",
      "7.0983653093707915\n",
      "0.07319192510232156\n"
     ]
    }
   ],
   "source": [
    "### base\n",
    "\n",
    "lk = pd.read_csv('/home/maxime/Desktop/RecSys2020/data/validation_results/like_timestamp_1000.csv', encoding=\"utf-8\", sep=',', header=None, index_col=False, low_memory=True)\n",
    "rt = pd.read_csv('/home/maxime/Desktop/RecSys2020/data/validation_results/retweet_timestamp_1000.csv', encoding=\"utf-8\", sep=',', header=None, index_col=False, low_memory=True)\n",
    "rtc = pd.read_csv('/home/maxime/Desktop/RecSys2020/data/validation_results/retweet_with_comment_timestamp_1000.csv', encoding=\"utf-8\", sep=',', header=None, index_col=False, low_memory=True)\n",
    "rpl = pd.read_csv('/home/maxime/Desktop/RecSys2020/data/validation_results/reply_timestamp_1000.csv', encoding=\"utf-8\", sep=',', header=None, index_col=False, low_memory=True)\n",
    "\n",
    "print( fonctions.compute_rce(lk[6], lk[2]) )\n",
    "print( fonctions.compute_prauc(lk[6], lk[2]) )\n",
    "\n",
    "print( fonctions.compute_rce(rt[6], rt[3]) )\n",
    "print( fonctions.compute_prauc(rt[6], rt[3]) )\n",
    "\n",
    "print( fonctions.compute_rce(rtc[6], rtc[4]) )\n",
    "print( fonctions.compute_prauc(rtc[6], rtc[4]) )\n",
    "\n",
    "print( fonctions.compute_rce(rpl[6], rpl[5]) )\n",
    "print( fonctions.compute_prauc(rpl[6], rpl[5]) )"
   ]
  },
  {
   "cell_type": "code",
   "execution_count": 5,
   "metadata": {},
   "outputs": [
    {
     "name": "stdout",
     "output_type": "stream",
     "text": [
      "17.419420202918158\n",
      "0.7446501613791754\n",
      "17.354942866994026\n",
      "0.43686925630508155\n",
      "-10.17001427235833\n",
      "0.030349176090832777\n",
      "9.076041978703353\n",
      "0.10294857627384545\n"
     ]
    }
   ],
   "source": [
    "### double base + custom loss\n",
    "\n",
    "lk = pd.read_csv('/home/maxime/Desktop/RecSys2020/data/validation_results/article_like_timestamp_4000.csv', encoding=\"utf-8\", sep=',', header=None, index_col=False, low_memory=True)\n",
    "rt = pd.read_csv('/home/maxime/Desktop/RecSys2020/data/validation_results/article_retweet_timestamp_4000.csv', encoding=\"utf-8\", sep=',', header=None, index_col=False, low_memory=True)\n",
    "rtc = pd.read_csv('/home/maxime/Desktop/RecSys2020/data/validation_results/article_retweet_with_comment_timestamp_4000.csv', encoding=\"utf-8\", sep=',', header=None, index_col=False, low_memory=True)\n",
    "rpl = pd.read_csv('/home/maxime/Desktop/RecSys2020/data/validation_results/article_reply_timestamp_4000.csv', encoding=\"utf-8\", sep=',', header=None, index_col=False, low_memory=True)\n",
    "\n",
    "print( fonctions.compute_rce(lk[2], lk[3]) )\n",
    "print( fonctions.compute_prauc(lk[2], lk[3]) )\n",
    "\n",
    "print( fonctions.compute_rce(rt[2], rt[3]) )\n",
    "print( fonctions.compute_prauc(rt[2], rt[3]) )\n",
    "\n",
    "print( fonctions.compute_rce(rtc[2], rtc[3]) )\n",
    "print( fonctions.compute_prauc(rtc[2], rtc[3]) )\n",
    "\n",
    "print( fonctions.compute_rce(rpl[2], rpl[3]) )\n",
    "print( fonctions.compute_prauc(rpl[2], rpl[3]) )"
   ]
  },
  {
   "cell_type": "code",
   "execution_count": 29,
   "metadata": {},
   "outputs": [
    {
     "name": "stdout",
     "output_type": "stream",
     "text": [
      "15.48973380522879\n",
      "0.7437274951516486\n",
      "17.522200208406137\n",
      "0.4458199404488744\n",
      "-0.6129504690818299\n",
      "0.033356791279591486\n",
      "7.356574947434247\n",
      "0.10371663176339563\n"
     ]
    }
   ],
   "source": [
    "### double base + binary cross entropy\n",
    "\n",
    "lk = pd.read_csv('/home/maxime/Desktop/RecSys2020/data/validation_results/article_like_timestamp_3000.csv', encoding=\"utf-8\", sep=',', header=None, index_col=False, low_memory=True)\n",
    "rt = pd.read_csv('/home/maxime/Desktop/RecSys2020/data/validation_results/article_retweet_timestamp_3000.csv', encoding=\"utf-8\", sep=',', header=None, index_col=False, low_memory=True)\n",
    "rtc = pd.read_csv('/home/maxime/Desktop/RecSys2020/data/validation_results/article_retweet_with_comment_timestamp_3000.csv', encoding=\"utf-8\", sep=',', header=None, index_col=False, low_memory=True)\n",
    "rpl = pd.read_csv('/home/maxime/Desktop/RecSys2020/data/validation_results/article_reply_timestamp_3000.csv', encoding=\"utf-8\", sep=',', header=None, index_col=False, low_memory=True)\n",
    "\n",
    "print( fonctions.compute_rce(lk[2], lk[3]) )\n",
    "print( fonctions.compute_prauc(lk[2], lk[3]) )\n",
    "\n",
    "print( fonctions.compute_rce(rt[2], rt[3]) )\n",
    "print( fonctions.compute_prauc(rt[2], rt[3]) )\n",
    "\n",
    "print( fonctions.compute_rce(rtc[2], rtc[3]) )\n",
    "print( fonctions.compute_prauc(rtc[2], rtc[3]) )\n",
    "\n",
    "print( fonctions.compute_rce(rpl[2], rpl[3]) )\n",
    "print( fonctions.compute_prauc(rpl[2], rpl[3]) )"
   ]
  },
  {
   "cell_type": "code",
   "execution_count": 4,
   "metadata": {},
   "outputs": [
    {
     "name": "stdout",
     "output_type": "stream",
     "text": [
      "16.836352848593407\n",
      "0.7470348249219674\n",
      "17.029411306229324\n",
      "0.4474760717060683\n",
      "-1.6307659964126309\n",
      "0.03079751103784525\n",
      "7.169041032124301\n",
      "0.10727302937750045\n"
     ]
    }
   ],
   "source": [
    "### double + all\n",
    "\n",
    "lk = pd.read_csv('/home/maxime/Desktop/RecSys2020/data/validation_results/article_like_timestamp_5000.csv', encoding=\"utf-8\", sep=',', header=None, index_col=False, low_memory=True)\n",
    "rt = pd.read_csv('/home/maxime/Desktop/RecSys2020/data/validation_results/article_retweet_timestamp_5000.csv', encoding=\"utf-8\", sep=',', header=None, index_col=False, low_memory=True)\n",
    "rtc = pd.read_csv('/home/maxime/Desktop/RecSys2020/data/validation_results/article_retweet_with_comment_timestamp_5000.csv', encoding=\"utf-8\", sep=',', header=None, index_col=False, low_memory=True)\n",
    "rpl = pd.read_csv('/home/maxime/Desktop/RecSys2020/data/validation_results/article_reply_timestamp_5000.csv', encoding=\"utf-8\", sep=',', header=None, index_col=False, low_memory=True)\n",
    "\n",
    "print( fonctions.compute_rce(lk[2], lk[3]) )\n",
    "print( fonctions.compute_prauc(lk[2], lk[3]) )\n",
    "\n",
    "print( fonctions.compute_rce(rt[2], rt[3]) )\n",
    "print( fonctions.compute_prauc(rt[2], rt[3]) )\n",
    "\n",
    "print( fonctions.compute_rce(rtc[2], rtc[3]) )\n",
    "print( fonctions.compute_prauc(rtc[2], rtc[3]) )\n",
    "\n",
    "print( fonctions.compute_rce(rpl[2], rpl[3]) )\n",
    "print( fonctions.compute_prauc(rpl[2], rpl[3]) )"
   ]
  },
  {
   "cell_type": "markdown",
   "metadata": {},
   "source": [
    "### Fold 2"
   ]
  },
  {
   "cell_type": "code",
   "execution_count": 2,
   "metadata": {},
   "outputs": [
    {
     "name": "stdout",
     "output_type": "stream",
     "text": [
      "10.905607511416559\n",
      "0.6714551937511261\n",
      "6.57256197711289\n",
      "0.23069437899488698\n",
      "0.7856290950647105\n",
      "0.01166535696056791\n",
      "7.378762435961894\n",
      "0.06901068294829077\n"
     ]
    }
   ],
   "source": [
    "### base\n",
    "\n",
    "lk = pd.read_csv('/home/maxime/Desktop/RecSys2020/data/validation_results/like_timestamp_1001.csv', encoding=\"utf-8\", sep=',', header=None, index_col=False, low_memory=True)\n",
    "rt = pd.read_csv('/home/maxime/Desktop/RecSys2020/data/validation_results/retweet_timestamp_1001.csv', encoding=\"utf-8\", sep=',', header=None, index_col=False, low_memory=True)\n",
    "rtc = pd.read_csv('/home/maxime/Desktop/RecSys2020/data/validation_results/retweet_with_comment_timestamp_1001.csv', encoding=\"utf-8\", sep=',', header=None, index_col=False, low_memory=True)\n",
    "rpl = pd.read_csv('/home/maxime/Desktop/RecSys2020/data/validation_results/reply_timestamp_1001.csv', encoding=\"utf-8\", sep=',', header=None, index_col=False, low_memory=True)\n",
    "\n",
    "print( fonctions.compute_rce(lk[6], lk[2]) )\n",
    "print( fonctions.compute_prauc(lk[6], lk[2]) )\n",
    "\n",
    "print( fonctions.compute_rce(rt[6], rt[3]) )\n",
    "print( fonctions.compute_prauc(rt[6], rt[3]) )\n",
    "\n",
    "print( fonctions.compute_rce(rtc[6], rtc[4]) )\n",
    "print( fonctions.compute_prauc(rtc[6], rtc[4]) )\n",
    "\n",
    "print( fonctions.compute_rce(rpl[6], rpl[5]) )\n",
    "print( fonctions.compute_prauc(rpl[6], rpl[5]) )"
   ]
  },
  {
   "cell_type": "code",
   "execution_count": 7,
   "metadata": {},
   "outputs": [
    {
     "name": "stdout",
     "output_type": "stream",
     "text": [
      "14.820905224255121\n",
      "0.7479255191231939\n",
      "17.657765506474433\n",
      "0.4439929634861524\n",
      "-0.468292820276317\n",
      "0.03335136814750482\n",
      "6.607245486830548\n",
      "0.10233268394182321\n"
     ]
    }
   ],
   "source": [
    "## double base\n",
    "\n",
    "lk = pd.read_csv('/home/maxime/Desktop/RecSys2020/data/validation_results/article_like_timestamp_3001.csv', encoding=\"utf-8\", sep=',', header=None, index_col=False, low_memory=True)\n",
    "rt = pd.read_csv('/home/maxime/Desktop/RecSys2020/data/validation_results/article_retweet_timestamp_3001.csv', encoding=\"utf-8\", sep=',', header=None, index_col=False, low_memory=True)\n",
    "rtc = pd.read_csv('/home/maxime/Desktop/RecSys2020/data/validation_results/article_retweet_with_comment_timestamp_3001.csv', encoding=\"utf-8\", sep=',', header=None, index_col=False, low_memory=True)\n",
    "rpl = pd.read_csv('/home/maxime/Desktop/RecSys2020/data/validation_results/article_reply_timestamp_3001.csv', encoding=\"utf-8\", sep=',', header=None, index_col=False, low_memory=True)\n",
    "\n",
    "print( fonctions.compute_rce(lk[2], lk[3]) )\n",
    "print( fonctions.compute_prauc(lk[2], lk[3]) )\n",
    "\n",
    "print( fonctions.compute_rce(rt[2], rt[3]) )\n",
    "print( fonctions.compute_prauc(rt[2], rt[3]) )\n",
    "\n",
    "print( fonctions.compute_rce(rtc[2], rtc[3]) )\n",
    "print( fonctions.compute_prauc(rtc[2], rtc[3]) )\n",
    "\n",
    "print( fonctions.compute_rce(rpl[2], rpl[3]) )\n",
    "print( fonctions.compute_prauc(rpl[2], rpl[3]) )"
   ]
  },
  {
   "cell_type": "code",
   "execution_count": 6,
   "metadata": {},
   "outputs": [
    {
     "name": "stdout",
     "output_type": "stream",
     "text": [
      "17.387817068745747\n",
      "0.747406788103898\n",
      "17.41747630235477\n",
      "0.44843326312659293\n",
      "0.2386478664903935\n",
      "0.03202701105658746\n",
      "7.053214683615272\n",
      "0.10443681982933425\n"
     ]
    }
   ],
   "source": [
    "### double base + custom loss\n",
    "\n",
    "lk = pd.read_csv('/home/maxime/Desktop/RecSys2020/data/validation_results/article_like_timestamp_4001.csv', encoding=\"utf-8\", sep=',', header=None, index_col=False, low_memory=True)\n",
    "rt = pd.read_csv('/home/maxime/Desktop/RecSys2020/data/validation_results/article_retweet_timestamp_4001.csv', encoding=\"utf-8\", sep=',', header=None, index_col=False, low_memory=True)\n",
    "rtc = pd.read_csv('/home/maxime/Desktop/RecSys2020/data/validation_results/article_retweet_with_comment_timestamp_4001.csv', encoding=\"utf-8\", sep=',', header=None, index_col=False, low_memory=True)\n",
    "rpl = pd.read_csv('/home/maxime/Desktop/RecSys2020/data/validation_results/article_reply_timestamp_4001.csv', encoding=\"utf-8\", sep=',', header=None, index_col=False, low_memory=True)\n",
    "\n",
    "print( fonctions.compute_rce(lk[2], lk[3]) )\n",
    "print( fonctions.compute_prauc(lk[2], lk[3]) )\n",
    "\n",
    "print( fonctions.compute_rce(rt[2], rt[3]) )\n",
    "print( fonctions.compute_prauc(rt[2], rt[3]) )\n",
    "\n",
    "print( fonctions.compute_rce(rtc[2], rtc[3]) )\n",
    "print( fonctions.compute_prauc(rtc[2], rtc[3]) )\n",
    "\n",
    "print( fonctions.compute_rce(rpl[2], rpl[3]) )\n",
    "print( fonctions.compute_prauc(rpl[2], rpl[3]) )"
   ]
  },
  {
   "cell_type": "code",
   "execution_count": 5,
   "metadata": {},
   "outputs": [
    {
     "name": "stdout",
     "output_type": "stream",
     "text": [
      "14.357551279834935\n",
      "0.7482304342660203\n",
      "12.717934492926709\n",
      "0.44212294861521073\n",
      "-8.906587311689718\n",
      "0.029137764530494107\n",
      "4.50160732542818\n",
      "0.11207792934039895\n"
     ]
    }
   ],
   "source": [
    "### double + custom loss + new features\n",
    "\n",
    "lk = pd.read_csv('/home/maxime/Desktop/RecSys2020/data/validation_results/article_like_timestamp_5001.csv', encoding=\"utf-8\", sep=',', header=None, index_col=False, low_memory=True)\n",
    "rt = pd.read_csv('/home/maxime/Desktop/RecSys2020/data/validation_results/article_retweet_timestamp_5001.csv', encoding=\"utf-8\", sep=',', header=None, index_col=False, low_memory=True)\n",
    "rtc = pd.read_csv('/home/maxime/Desktop/RecSys2020/data/validation_results/article_retweet_with_comment_timestamp_5001.csv', encoding=\"utf-8\", sep=',', header=None, index_col=False, low_memory=True)\n",
    "rpl = pd.read_csv('/home/maxime/Desktop/RecSys2020/data/validation_results/article_reply_timestamp_5001.csv', encoding=\"utf-8\", sep=',', header=None, index_col=False, low_memory=True)\n",
    "\n",
    "print( fonctions.compute_rce(lk[2], lk[3]) )\n",
    "print( fonctions.compute_prauc(lk[2], lk[3]) )\n",
    "\n",
    "print( fonctions.compute_rce(rt[2], rt[3]) )\n",
    "print( fonctions.compute_prauc(rt[2], rt[3]) )\n",
    "\n",
    "print( fonctions.compute_rce(rtc[2], rtc[3]) )\n",
    "print( fonctions.compute_prauc(rtc[2], rtc[3]) )\n",
    "\n",
    "print( fonctions.compute_rce(rpl[2], rpl[3]) )\n",
    "print( fonctions.compute_prauc(rpl[2], rpl[3]) )"
   ]
  },
  {
   "cell_type": "markdown",
   "metadata": {},
   "source": [
    "### Efficiency of the custom loss"
   ]
  },
  {
   "cell_type": "code",
   "execution_count": null,
   "metadata": {},
   "outputs": [],
   "source": [
    "### impact of the custom loss on the prediction\n",
    "\n",
    "rt = pd.read_csv('/home/maxime/Desktop/RecSys2020/data/validation_results/article_retweet_timestamp_4000.csv', encoding=\"utf-8\", sep=',', header=None, index_col=False, low_memory=True)\n",
    "rtc = pd.read_csv('/home/maxime/Desktop/RecSys2020/data/validation_results/article_retweet_with_comment_timestamp_4000.csv', encoding=\"utf-8\", sep=',', header=None, index_col=False, low_memory=True)\n",
    "table1 = pd.concat([ rt[2],rtc[2] ],axis=1)\n",
    "table1.columns=['rt','rtc']\n",
    "\n",
    "print( len( table1[ (table1['rtc']>0.5) & (table1['rt']<0.5) ] ) )\n",
    "print( len( table1[ table1['rtc'] > table1['rt'] ] ) )\n",
    "\n",
    "rt_custom = pd.read_csv('/home/maxime/Desktop/RecSys2020/data/validation_results/article_retweet_timestamp_3000.csv', encoding=\"utf-8\", sep=',', header=None, index_col=False, low_memory=True)\n",
    "rtc_custom = pd.read_csv('/home/maxime/Desktop/RecSys2020/data/validation_results/article_retweet_with_comment_timestamp_3000.csv', encoding=\"utf-8\", sep=',', header=None, index_col=False, low_memory=True)\n",
    "table2 = pd.concat([rt_custom[2],rtc_custom[2]],axis=1)\n",
    "table2.columns=['rt','rtc']\n",
    "\n",
    "print( len( table2[ (table2['rtc']>0.5) & (table2['rt']<0.5) ] ) )\n",
    "print( len( table2[ table2['rtc'] > table2['rt'] ]) )\n",
    "\n"
   ]
  },
  {
   "cell_type": "code",
   "execution_count": 9,
   "metadata": {},
   "outputs": [
    {
     "name": "stdout",
     "output_type": "stream",
     "text": [
      "92\n",
      "25405\n",
      "0\n",
      "0\n"
     ]
    }
   ],
   "source": [
    "rt = pd.read_csv('/home/maxime/Desktop/RecSys2020/data/validation_results/article_retweet_timestamp_0.csv', encoding=\"utf-8\", sep=',', header=None, index_col=False, low_memory=True)\n",
    "rtc = pd.read_csv('/home/maxime/Desktop/RecSys2020/data/validation_results/article_retweet_with_comment_timestamp_0.csv', encoding=\"utf-8\", sep=',', header=None, index_col=False, low_memory=True)\n",
    "table1 = pd.concat([ rt[2],rtc[2] ],axis=1)\n",
    "table1.columns=['rt','rtc']\n",
    "\n",
    "print( len( table1[ (table1['rtc']>0.5) & (table1['rt']<0.5) ] ) )\n",
    "print( len( table1[ table1['rtc'] > table1['rt'] ] ) )\n",
    "\n",
    "rt_custom = pd.read_csv('/home/maxime/Desktop/RecSys2020/data/validation_results/article_retweet_timestamp_9999.csv', encoding=\"utf-8\", sep=',', header=None, index_col=False, low_memory=True)\n",
    "rtc_custom = pd.read_csv('/home/maxime/Desktop/RecSys2020/data/validation_results/article_retweet_with_comment_timestamp_9999.csv', encoding=\"utf-8\", sep=',', header=None, index_col=False, low_memory=True)\n",
    "table2 = pd.concat([rt_custom[2],rtc_custom[2]],axis=1)\n",
    "table2.columns=['rt','rtc']\n",
    "\n",
    "print( len( table2[ (table2['rtc']>0.5) & (table2['rt']<0.5) ] ) )\n",
    "print( len( table2[ table2['rtc'] > table2['rt'] ]) )\n",
    "\n"
   ]
  },
  {
   "cell_type": "markdown",
   "metadata": {},
   "source": [
    "### Fold 3 "
   ]
  },
  {
   "cell_type": "code",
   "execution_count": 2,
   "metadata": {},
   "outputs": [
    {
     "name": "stdout",
     "output_type": "stream",
     "text": [
      "11.52398662998021\n",
      "0.6710049318662645\n",
      "6.854939678237704\n",
      "0.2321925068878797\n",
      "1.580620479956829\n",
      "0.012142447731780366\n",
      "7.884508097635578\n",
      "0.07402883567820934\n"
     ]
    }
   ],
   "source": [
    "### base\n",
    "\n",
    "lk = pd.read_csv('/home/maxime/Desktop/RecSys2020/data/validation_results/like_timestamp_1005.csv', encoding=\"utf-8\", sep=',', header=None, index_col=False, low_memory=True)\n",
    "rt = pd.read_csv('/home/maxime/Desktop/RecSys2020/data/validation_results/retweet_timestamp_1005.csv', encoding=\"utf-8\", sep=',', header=None, index_col=False, low_memory=True)\n",
    "rtc = pd.read_csv('/home/maxime/Desktop/RecSys2020/data/validation_results/retweet_with_comment_timestamp_1005.csv', encoding=\"utf-8\", sep=',', header=None, index_col=False, low_memory=True)\n",
    "rpl = pd.read_csv('/home/maxime/Desktop/RecSys2020/data/validation_results/reply_timestamp_1005.csv', encoding=\"utf-8\", sep=',', header=None, index_col=False, low_memory=True)\n",
    "\n",
    "print( fonctions.compute_rce(lk[6], lk[2]) )\n",
    "print( fonctions.compute_prauc(lk[6], lk[2]) )\n",
    "\n",
    "print( fonctions.compute_rce(rt[6], rt[3]) )\n",
    "print( fonctions.compute_prauc(rt[6], rt[3]) )\n",
    "\n",
    "print( fonctions.compute_rce(rtc[6], rtc[4]) )\n",
    "print( fonctions.compute_prauc(rtc[6], rtc[4]) )\n",
    "\n",
    "print( fonctions.compute_rce(rpl[6], rpl[5]) )\n",
    "print( fonctions.compute_prauc(rpl[6], rpl[5]) )"
   ]
  },
  {
   "cell_type": "code",
   "execution_count": 11,
   "metadata": {},
   "outputs": [
    {
     "ename": "ValueError",
     "evalue": "Input contains NaN, infinity or a value too large for dtype('float64').",
     "output_type": "error",
     "traceback": [
      "\u001b[0;31m---------------------------------------------------------------------------\u001b[0m",
      "\u001b[0;31mValueError\u001b[0m                                Traceback (most recent call last)",
      "\u001b[0;32m<ipython-input-11-5a850c6ad239>\u001b[0m in \u001b[0;36m<module>\u001b[0;34m\u001b[0m\n\u001b[1;32m      7\u001b[0m \u001b[0;34m\u001b[0m\u001b[0m\n\u001b[1;32m      8\u001b[0m \u001b[0;31m# print( fonctions.compute_rce(lk[2], lk[3]) )\u001b[0m\u001b[0;34m\u001b[0m\u001b[0;34m\u001b[0m\u001b[0;34m\u001b[0m\u001b[0m\n\u001b[0;32m----> 9\u001b[0;31m \u001b[0mprint\u001b[0m\u001b[0;34m(\u001b[0m \u001b[0mfonctions\u001b[0m\u001b[0;34m.\u001b[0m\u001b[0mcompute_prauc\u001b[0m\u001b[0;34m(\u001b[0m\u001b[0mlk\u001b[0m\u001b[0;34m[\u001b[0m\u001b[0;36m2\u001b[0m\u001b[0;34m]\u001b[0m\u001b[0;34m,\u001b[0m \u001b[0mlk\u001b[0m\u001b[0;34m[\u001b[0m\u001b[0;36m3\u001b[0m\u001b[0;34m]\u001b[0m\u001b[0;34m)\u001b[0m \u001b[0;34m)\u001b[0m\u001b[0;34m\u001b[0m\u001b[0;34m\u001b[0m\u001b[0m\n\u001b[0m\u001b[1;32m     10\u001b[0m \u001b[0;34m\u001b[0m\u001b[0m\n\u001b[1;32m     11\u001b[0m \u001b[0;31m# print( fonctions.compute_rce(rt[2], rt[3]) )\u001b[0m\u001b[0;34m\u001b[0m\u001b[0;34m\u001b[0m\u001b[0;34m\u001b[0m\u001b[0m\n",
      "\u001b[0;32m~/Desktop/RecSys2020/code/code/fonctions.py\u001b[0m in \u001b[0;36mcompute_prauc\u001b[0;34m(pred, gt)\u001b[0m\n\u001b[1;32m     46\u001b[0m \u001b[0;34m\u001b[0m\u001b[0m\n\u001b[1;32m     47\u001b[0m \u001b[0;32mdef\u001b[0m \u001b[0mcompute_prauc\u001b[0m\u001b[0;34m(\u001b[0m\u001b[0mpred\u001b[0m\u001b[0;34m,\u001b[0m \u001b[0mgt\u001b[0m\u001b[0;34m)\u001b[0m\u001b[0;34m:\u001b[0m\u001b[0;34m\u001b[0m\u001b[0;34m\u001b[0m\u001b[0m\n\u001b[0;32m---> 48\u001b[0;31m     \u001b[0mprec\u001b[0m\u001b[0;34m,\u001b[0m \u001b[0mrecall\u001b[0m\u001b[0;34m,\u001b[0m \u001b[0mthresh\u001b[0m \u001b[0;34m=\u001b[0m \u001b[0mprecision_recall_curve\u001b[0m\u001b[0;34m(\u001b[0m\u001b[0mgt\u001b[0m\u001b[0;34m,\u001b[0m \u001b[0mpred\u001b[0m\u001b[0;34m)\u001b[0m\u001b[0;34m\u001b[0m\u001b[0;34m\u001b[0m\u001b[0m\n\u001b[0m\u001b[1;32m     49\u001b[0m     \u001b[0mprauc\u001b[0m \u001b[0;34m=\u001b[0m \u001b[0mauc\u001b[0m\u001b[0;34m(\u001b[0m\u001b[0mrecall\u001b[0m\u001b[0;34m,\u001b[0m \u001b[0mprec\u001b[0m\u001b[0;34m)\u001b[0m\u001b[0;34m\u001b[0m\u001b[0;34m\u001b[0m\u001b[0m\n\u001b[1;32m     50\u001b[0m     \u001b[0;32mreturn\u001b[0m \u001b[0mprauc\u001b[0m\u001b[0;34m\u001b[0m\u001b[0;34m\u001b[0m\u001b[0m\n",
      "\u001b[0;32m~/anaconda3/lib/python3.6/site-packages/sklearn/metrics/_ranking.py\u001b[0m in \u001b[0;36mprecision_recall_curve\u001b[0;34m(y_true, probas_pred, pos_label, sample_weight)\u001b[0m\n\u001b[1;32m    671\u001b[0m     fps, tps, thresholds = _binary_clf_curve(y_true, probas_pred,\n\u001b[1;32m    672\u001b[0m                                              \u001b[0mpos_label\u001b[0m\u001b[0;34m=\u001b[0m\u001b[0mpos_label\u001b[0m\u001b[0;34m,\u001b[0m\u001b[0;34m\u001b[0m\u001b[0;34m\u001b[0m\u001b[0m\n\u001b[0;32m--> 673\u001b[0;31m                                              sample_weight=sample_weight)\n\u001b[0m\u001b[1;32m    674\u001b[0m \u001b[0;34m\u001b[0m\u001b[0m\n\u001b[1;32m    675\u001b[0m     \u001b[0mprecision\u001b[0m \u001b[0;34m=\u001b[0m \u001b[0mtps\u001b[0m \u001b[0;34m/\u001b[0m \u001b[0;34m(\u001b[0m\u001b[0mtps\u001b[0m \u001b[0;34m+\u001b[0m \u001b[0mfps\u001b[0m\u001b[0;34m)\u001b[0m\u001b[0;34m\u001b[0m\u001b[0;34m\u001b[0m\u001b[0m\n",
      "\u001b[0;32m~/anaconda3/lib/python3.6/site-packages/sklearn/metrics/_ranking.py\u001b[0m in \u001b[0;36m_binary_clf_curve\u001b[0;34m(y_true, y_score, pos_label, sample_weight)\u001b[0m\n\u001b[1;32m    540\u001b[0m     \u001b[0my_score\u001b[0m \u001b[0;34m=\u001b[0m \u001b[0mcolumn_or_1d\u001b[0m\u001b[0;34m(\u001b[0m\u001b[0my_score\u001b[0m\u001b[0;34m)\u001b[0m\u001b[0;34m\u001b[0m\u001b[0;34m\u001b[0m\u001b[0m\n\u001b[1;32m    541\u001b[0m     \u001b[0massert_all_finite\u001b[0m\u001b[0;34m(\u001b[0m\u001b[0my_true\u001b[0m\u001b[0;34m)\u001b[0m\u001b[0;34m\u001b[0m\u001b[0;34m\u001b[0m\u001b[0m\n\u001b[0;32m--> 542\u001b[0;31m     \u001b[0massert_all_finite\u001b[0m\u001b[0;34m(\u001b[0m\u001b[0my_score\u001b[0m\u001b[0;34m)\u001b[0m\u001b[0;34m\u001b[0m\u001b[0;34m\u001b[0m\u001b[0m\n\u001b[0m\u001b[1;32m    543\u001b[0m \u001b[0;34m\u001b[0m\u001b[0m\n\u001b[1;32m    544\u001b[0m     \u001b[0;32mif\u001b[0m \u001b[0msample_weight\u001b[0m \u001b[0;32mis\u001b[0m \u001b[0;32mnot\u001b[0m \u001b[0;32mNone\u001b[0m\u001b[0;34m:\u001b[0m\u001b[0;34m\u001b[0m\u001b[0;34m\u001b[0m\u001b[0m\n",
      "\u001b[0;32m~/anaconda3/lib/python3.6/site-packages/sklearn/utils/validation.py\u001b[0m in \u001b[0;36massert_all_finite\u001b[0;34m(X, allow_nan)\u001b[0m\n\u001b[1;32m     75\u001b[0m     \u001b[0mallow_nan\u001b[0m \u001b[0;34m:\u001b[0m \u001b[0mbool\u001b[0m\u001b[0;34m\u001b[0m\u001b[0;34m\u001b[0m\u001b[0m\n\u001b[1;32m     76\u001b[0m     \"\"\"\n\u001b[0;32m---> 77\u001b[0;31m     \u001b[0m_assert_all_finite\u001b[0m\u001b[0;34m(\u001b[0m\u001b[0mX\u001b[0m\u001b[0;34m.\u001b[0m\u001b[0mdata\u001b[0m \u001b[0;32mif\u001b[0m \u001b[0msp\u001b[0m\u001b[0;34m.\u001b[0m\u001b[0missparse\u001b[0m\u001b[0;34m(\u001b[0m\u001b[0mX\u001b[0m\u001b[0;34m)\u001b[0m \u001b[0;32melse\u001b[0m \u001b[0mX\u001b[0m\u001b[0;34m,\u001b[0m \u001b[0mallow_nan\u001b[0m\u001b[0;34m)\u001b[0m\u001b[0;34m\u001b[0m\u001b[0;34m\u001b[0m\u001b[0m\n\u001b[0m\u001b[1;32m     78\u001b[0m \u001b[0;34m\u001b[0m\u001b[0m\n\u001b[1;32m     79\u001b[0m \u001b[0;34m\u001b[0m\u001b[0m\n",
      "\u001b[0;32m~/anaconda3/lib/python3.6/site-packages/sklearn/utils/validation.py\u001b[0m in \u001b[0;36m_assert_all_finite\u001b[0;34m(X, allow_nan, msg_dtype)\u001b[0m\n\u001b[1;32m     58\u001b[0m                     \u001b[0mmsg_err\u001b[0m\u001b[0;34m.\u001b[0m\u001b[0mformat\u001b[0m\u001b[0;34m\u001b[0m\u001b[0;34m\u001b[0m\u001b[0m\n\u001b[1;32m     59\u001b[0m                     (type_err,\n\u001b[0;32m---> 60\u001b[0;31m                      msg_dtype if msg_dtype is not None else X.dtype)\n\u001b[0m\u001b[1;32m     61\u001b[0m             )\n\u001b[1;32m     62\u001b[0m     \u001b[0;31m# for object dtype data, we only check for NaNs (GH-13254)\u001b[0m\u001b[0;34m\u001b[0m\u001b[0;34m\u001b[0m\u001b[0;34m\u001b[0m\u001b[0m\n",
      "\u001b[0;31mValueError\u001b[0m: Input contains NaN, infinity or a value too large for dtype('float64')."
     ]
    }
   ],
   "source": [
    "## double base\n",
    "\n",
    "lk = pd.read_csv('/home/maxime/Desktop/RecSys2020/data/validation_results/article_like_timestamp_3005.csv', encoding=\"utf-8\", sep=',', header=None, index_col=False, low_memory=True)\n",
    "rt = pd.read_csv('/home/maxime/Desktop/RecSys2020/data/validation_results/article_retweet_timestamp_3005.csv', encoding=\"utf-8\", sep=',', header=None, index_col=False, low_memory=True)\n",
    "rtc = pd.read_csv('/home/maxime/Desktop/RecSys2020/data/validation_results/article_retweet_with_comment_timestamp_3005.csv', encoding=\"utf-8\", sep=',', header=None, index_col=False, low_memory=True)\n",
    "rpl = pd.read_csv('/home/maxime/Desktop/RecSys2020/data/validation_results/article_reply_timestamp_3005.csv', encoding=\"utf-8\", sep=',', header=None, index_col=False, low_memory=True)\n",
    "\n",
    "print( fonctions.compute_rce(lk[2], lk[3]) )\n",
    "print( fonctions.compute_prauc(lk[2], lk[3]) )\n",
    "\n",
    "print( fonctions.compute_rce(rt[2], rt[3]) )\n",
    "print( fonctions.compute_prauc(rt[2], rt[3]) )\n",
    "\n",
    "print( fonctions.compute_rce(rtc[2], rtc[3]) )\n",
    "print( fonctions.compute_prauc(rtc[2], rtc[3]) )\n",
    "\n",
    "print( fonctions.compute_rce(rpl[2], rpl[3]) )\n",
    "print( fonctions.compute_prauc(rpl[2], rpl[3]) )"
   ]
  }
 ],
 "metadata": {
  "kernelspec": {
   "display_name": "Python 3",
   "language": "python",
   "name": "python3"
  },
  "language_info": {
   "codemirror_mode": {
    "name": "ipython",
    "version": 3
   },
   "file_extension": ".py",
   "mimetype": "text/x-python",
   "name": "python",
   "nbconvert_exporter": "python",
   "pygments_lexer": "ipython3",
   "version": "3.6.10"
  }
 },
 "nbformat": 4,
 "nbformat_minor": 4
}
