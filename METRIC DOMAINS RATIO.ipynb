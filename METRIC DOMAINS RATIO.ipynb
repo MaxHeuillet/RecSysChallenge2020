{
 "cells": [
  {
   "cell_type": "code",
   "execution_count": 1,
   "metadata": {},
   "outputs": [
    {
     "name": "stderr",
     "output_type": "stream",
     "text": [
      "Using TensorFlow backend.\n"
     ]
    }
   ],
   "source": [
    "%load_ext autoreload\n",
    "%autoreload 2\n",
    "\n",
    "import warnings\n",
    "warnings.filterwarnings(\"ignore\", category=FutureWarning)\n",
    "\n",
    "import pandas as pd\n",
    "\n",
    "import collections\n",
    "import re\n",
    "import pprint as pp\n",
    "import numpy as np\n",
    "import collections\n",
    "\n",
    "import multiprocessing as mp\n",
    "from multiprocessing.pool import ThreadPool\n",
    "\n",
    "import math\n",
    "import gzip\n",
    "import pickle as pkl\n",
    "from datetime import datetime\n",
    "import matplotlib.pyplot as plt\n",
    "\n",
    "import fonctions\n",
    "import metric_loading\n",
    "\n",
    "import itertools\n",
    "from tqdm.notebook import tqdm\n",
    "\n",
    "from os import listdir\n",
    "from os.path import isfile, join\n",
    "\n",
    "import random\n",
    "random.seed(0)\n"
   ]
  },
  {
   "cell_type": "code",
   "execution_count": 2,
   "metadata": {},
   "outputs": [],
   "source": [
    "def trend_processing(x):\n",
    "    if type(x) is str:\n",
    "        return re.split(r'\\t+', x)\n",
    "    return float('Nan')\n",
    "\n",
    "def get_trends(directory, doc_name, init):\n",
    "    \n",
    "    all_features = [\"text_tokens\", \"hashtags\", \"tweet_id\", \n",
    "                    \"present_media\", \"present_links\", \n",
    "                    \"present_domains\", \"tweet_type\",\"language\", \n",
    "                    \"tweet_timestamp\", \"engaged_with_user_id\",\n",
    "                    \"engaged_with_user_follower_count\", \"engaged_with_user_following_count\", \n",
    "                    \"engaged_with_user_is_verified\", \"engaged_with_user_account_creation\",\n",
    "                    \"engaging_user_id\", \"engaging_user_follower_count\", \n",
    "                    \"engaging_user_following_count\", \"engaging_user_is_verified\",\n",
    "                    \"engaging_user_account_creation\", \"engagee_follows_engager\"]\n",
    "    \n",
    "    df = pd.read_csv(directory+doc_name, encoding=\"utf-8\", sep='\\x01', header=None)\n",
    "    \n",
    "    if init:\n",
    "        labels = ['reply_timestamp','retweet_timestamp', 'retweet_with_comment_timestamp','like_timestamp']\n",
    "        all_variables = all_features + labels\n",
    "        df.columns = all_variables\n",
    "        \n",
    "        df['reply_timestamp']=[ 0 if math.isnan(x) else 1 for x in df['reply_timestamp'] ]\n",
    "        df['retweet_timestamp']=[ 0 if math.isnan(x) else 1 for x in df['retweet_timestamp'] ]\n",
    "        df['retweet_with_comment_timestamp']=[ 0 if math.isnan(x) else 1 for x in df['retweet_with_comment_timestamp'] ]\n",
    "        df['like_timestamp']=[ 0 if math.isnan(x) else 1 for x in df['like_timestamp'] ]\n",
    "        \n",
    "    else:\n",
    "         df.columns = all_features\n",
    "        \n",
    "    df['present_domains'] = [ trend_processing(x) for x in df['present_domains'] ] \n",
    "    df['tweet_timestamp']=[ str(datetime.utcfromtimestamp(int(date)))[0:13] for date in df['tweet_timestamp'] ]\n",
    "    \n",
    "    df = df.filter(labels+['present_domains','tweet_timestamp' ],axis=1)\n",
    "    \n",
    "    return df\n",
    "\n",
    "\n",
    "def domains_on_chunk(directory, chunk, chunk_id, init):\n",
    "\n",
    "    domains_ratio = {}\n",
    "    buff_domains_ratio = {}\n",
    "    engagements = ['like_timestamp','retweet_timestamp','retweet_with_comment_timestamp','reply_timestamp']\n",
    "\n",
    "\n",
    "    iteration=1\n",
    "    for batch_file in chunk:\n",
    "        \n",
    "        df = get_trends(directory,batch_file,True)\n",
    "        df = df [ df['present_domains'].isna()==False ]\n",
    "        links = np.unique ( list( itertools.chain.from_iterable(df.present_domains) ) )\n",
    "        \n",
    "        select = { k:[0,0,0,0] for k in links if k not in buff_domains_ratio.keys()  }\n",
    "        buff_domains_ratio.update(select)\n",
    "            \n",
    "        for idx, engagement in enumerate(engagements):\n",
    "            buff =  df[ df[engagement]==1 ]\n",
    "            buff_presence = collections.Counter( list( itertools.chain.from_iterable(buff.present_domains) ) )\n",
    "            { update_eng(buff_domains_ratio, k, v, idx) for k,v in buff_presence.items() }\n",
    "        \n",
    "        if iteration in [4, 50, 100, 150, 200, 250, 300, 350, 400, 450, 500, 550]:\n",
    "            \n",
    "            select = {k:v for k,v in buff_domains_ratio.items() if k in domains_ratio.keys() }\n",
    "            reste = {k:v for k,v in buff_domains_ratio.items() if k not in domains_ratio.keys() }\n",
    "            { update_agg(domains_ratio, k, v) for k,v in select.items() }\n",
    "            domains_ratio.update(reste)\n",
    "            buff_domains_ratio = {}\n",
    "            print(len( domains_ratio.keys() ))\n",
    "\n",
    "        print(iteration)\n",
    "        iteration=iteration+1\n",
    "        \n",
    "    select = {k:v for k,v in buff_domains_ratio.items() if k in domains_ratio.keys() }\n",
    "    reste = {k:v for k,v in buff_domains_ratio.items() if k not in domains_ratio.keys() }\n",
    "    { update_agg(domains_ratio, k, v) for k,v in select.items() }\n",
    "    domains_ratio.update(reste)\n",
    "    \n",
    "    print('cutting and saving...')\n",
    "    \n",
    "    if init==True:\n",
    "\n",
    "        with gzip.open('/home/maxime/Desktop/RecSys2020/trends/domains_ratio_{}.pkl.gz'.format(chunk_id), 'wb') as f:\n",
    "            pkl.dump(domains_ratio,f)\n",
    "            \n",
    "    else: \n",
    "        \n",
    "        with gzip.open('/home/maxime/Desktop/RecSys2020/trends/update_domains_ratio_{}.pkl.gz'.format(chunk_id), 'wb') as f:\n",
    "            pkl.dump(domains_ratio,f)\n",
    "    \n",
    "    return True\n",
    "\n",
    "def update_eng(domains_ratio, key,v, idx):\n",
    "    domains_ratio[key][idx]=domains_ratio[key][idx]+v\n",
    "\n",
    "def update_agg(domains_ratio, k, v):\n",
    "    domains_ratio[k]=[x + y for x, y in zip(domains_ratio[k], v )]\n",
    "    "
   ]
  },
  {
   "cell_type": "code",
   "execution_count": 3,
   "metadata": {},
   "outputs": [
    {
     "name": "stdout",
     "output_type": "stream",
     "text": [
      "1\n",
      "1\n",
      "1\n",
      "1\n",
      "1\n",
      "1\n",
      "1\n",
      "1\n",
      "2\n",
      "2\n",
      "2\n",
      "2\n",
      "2\n",
      "2\n",
      "2\n",
      "2\n",
      "3\n",
      "3\n",
      "3\n",
      "3\n",
      "3\n",
      "3\n",
      "3\n"
     ]
    }
   ],
   "source": [
    "\n",
    "batch_path='/home/maxime/Desktop/RecSys2020/data/batches'\n",
    "batch_list = [f for f in listdir(batch_path) if isfile(join(batch_path, f))]\n",
    "chunks = fonctions.chunkIt(batch_list, 8)\n",
    "directory = '/home/maxime/Desktop/RecSys2020/data/batches/'\n",
    "\n",
    "if __name__ == '__main__':\n",
    "    \n",
    "    # Setup a list of processes that we want to run\n",
    "    processes = [ mp.Process(target=domains_on_chunk, args=(directory, chunk, chunk_id, True) ) for chunk_id, chunk in enumerate(chunks) ]\n",
    "\n",
    "    # Run processes\n",
    "    for p in processes:\n",
    "        p.start()\n",
    "        \n",
    "    #Stop the processes\n",
    "    for p in processes:\n",
    "        p.join() "
   ]
  },
  {
   "cell_type": "code",
   "execution_count": 4,
   "metadata": {},
   "outputs": [
    {
     "name": "stdout",
     "output_type": "stream",
     "text": [
      "0\n",
      "1\n",
      "2\n",
      "3\n",
      "4\n",
      "5\n",
      "6\n",
      "7\n"
     ]
    },
    {
     "data": {
      "application/vnd.jupyter.widget-view+json": {
       "model_id": "dc099b5590574fdb9b790b6adae02eac",
       "version_major": 2,
       "version_minor": 0
      },
      "text/plain": [
       "HBox(children=(FloatProgress(value=0.0, max=330050.0), HTML(value='')))"
      ]
     },
     "metadata": {},
     "output_type": "display_data"
    },
    {
     "name": "stdout",
     "output_type": "stream",
     "text": [
      "\n"
     ]
    }
   ],
   "source": [
    "engagements = ['like_timestamp','retweet_timestamp','retweet_with_comment_timestamp','reply_timestamp']\n",
    "global_domains_ratio = {}\n",
    "global_domains_presence = {}\n",
    "\n",
    "for chunk_id in range(8):\n",
    "    \n",
    "    print(chunk_id)\n",
    "    \n",
    "    with gzip.open('/home/maxime/Desktop/RecSys2020/trends/domains_ratio_{}.pkl.gz'.format(chunk_id), 'rb') as f:\n",
    "        domains_ratio = pkl.load(f)\n",
    "        \n",
    "    select = {k:v for k,v in domains_ratio.items() if k in global_domains_ratio.keys() }\n",
    "    reste = {k:v for k,v in domains_ratio.items() if k not in global_domains_ratio.keys() }\n",
    "    { update_agg(global_domains_ratio, k, v) for k,v in select.items() }     \n",
    "    global_domains_ratio.update(reste)\n",
    "    \n",
    "    with gzip.open('/home/maxime/Desktop/RecSys2020/trends/present_domains_presence_{}.pkl.gz'.format(chunk_id), 'rb') as f:\n",
    "        domains_presence = pkl.load(f)\n",
    "        \n",
    "    select = {k:v for k,v in domains_presence.items() if k in global_domains_presence.keys() }\n",
    "    reste = {k:v for k,v in domains_presence.items() if k not in global_domains_presence.keys() }\n",
    "    { update_agg(global_domains_presence, k, v) for k,v in select.items() }     \n",
    "    global_domains_presence.update(reste)\n",
    "        \n",
    "global_domains_presence = {k:len(v) for k,v in tqdm( global_domains_presence.items() ) }\n"
   ]
  },
  {
   "cell_type": "code",
   "execution_count": 5,
   "metadata": {},
   "outputs": [
    {
     "data": {
      "application/vnd.jupyter.widget-view+json": {
       "model_id": "c0d1c3c336b34fb286f45286d924ea72",
       "version_major": 2,
       "version_minor": 0
      },
      "text/plain": [
       "HBox(children=(FloatProgress(value=0.0, max=330050.0), HTML(value='')))"
      ]
     },
     "metadata": {},
     "output_type": "display_data"
    },
    {
     "name": "stdout",
     "output_type": "stream",
     "text": [
      "\n"
     ]
    },
    {
     "data": {
      "application/vnd.jupyter.widget-view+json": {
       "model_id": "42e661ede03f4d2faed2f67707888832",
       "version_major": 2,
       "version_minor": 0
      },
      "text/plain": [
       "HBox(children=(FloatProgress(value=0.0, max=330050.0), HTML(value='')))"
      ]
     },
     "metadata": {},
     "output_type": "display_data"
    },
    {
     "name": "stdout",
     "output_type": "stream",
     "text": [
      "\n"
     ]
    },
    {
     "data": {
      "application/vnd.jupyter.widget-view+json": {
       "model_id": "d860fc2ab54d42fa9a6fd269c44ac6ec",
       "version_major": 2,
       "version_minor": 0
      },
      "text/plain": [
       "HBox(children=(FloatProgress(value=0.0, max=330050.0), HTML(value='')))"
      ]
     },
     "metadata": {},
     "output_type": "display_data"
    },
    {
     "name": "stdout",
     "output_type": "stream",
     "text": [
      "\n"
     ]
    },
    {
     "data": {
      "application/vnd.jupyter.widget-view+json": {
       "model_id": "b47c2fe87b904622bb7501b22bae70c9",
       "version_major": 2,
       "version_minor": 0
      },
      "text/plain": [
       "HBox(children=(FloatProgress(value=0.0, max=330050.0), HTML(value='')))"
      ]
     },
     "metadata": {},
     "output_type": "display_data"
    },
    {
     "name": "stdout",
     "output_type": "stream",
     "text": [
      "\n"
     ]
    },
    {
     "data": {
      "application/vnd.jupyter.widget-view+json": {
       "model_id": "2464ad7017864092a87fb397468bc6f6",
       "version_major": 2,
       "version_minor": 0
      },
      "text/plain": [
       "HBox(children=(FloatProgress(value=0.0, max=330050.0), HTML(value='')))"
      ]
     },
     "metadata": {},
     "output_type": "display_data"
    },
    {
     "name": "stdout",
     "output_type": "stream",
     "text": [
      "\n"
     ]
    }
   ],
   "source": [
    "def ratio_extraction(v):\n",
    "\n",
    "    total_engagement = sum(v)\n",
    "\n",
    "    if sum(v)==0:\n",
    "        like_ratio = 0\n",
    "        retweet_ratio = 0\n",
    "        rtc_ratio = 0\n",
    "        reply_ratio = 0\n",
    "    else:\n",
    "        like_ratio = round( v[0]/sum(v), 3)\n",
    "        retweet_ratio = round(v[1]/sum(v),3)\n",
    "        rtc_ratio = round(v[2]/sum(v) , 3)\n",
    "        reply_ratio = round(v[3]/sum(v),3)\n",
    "\n",
    "    return [total_engagement, like_ratio, retweet_ratio, rtc_ratio, reply_ratio ]\n",
    "\n",
    "global_ratio2 = { k:ratio_extraction(v) for k,v in tqdm( global_domains_ratio.items() ) }\n",
    "computed_ratio = {'like_timestamp':{},'retweet_timestamp':{},'retweet_with_comment_timestamp':{},'reply_timestamp':{}}\n",
    "\n",
    "engagements = ['like_timestamp','retweet_timestamp','retweet_with_comment_timestamp','reply_timestamp']\n",
    "\n",
    "for idx,engagement in enumerate(engagements):\n",
    "    \n",
    "    computed_ratio[engagement]= {k:(v[0],v[idx+1]) for k,v in tqdm(global_ratio2.items()) if v[0]>100 and v[idx+1]>0.6 }\n"
   ]
  },
  {
   "cell_type": "code",
   "execution_count": 6,
   "metadata": {},
   "outputs": [
    {
     "name": "stdout",
     "output_type": "stream",
     "text": [
      "3690\n",
      "69\n",
      "0\n",
      "0\n"
     ]
    }
   ],
   "source": [
    "like_id = [ k for k in computed_ratio['like_timestamp'].keys() ]\n",
    "print(len(like_id))\n",
    "dictionnary_lk = { val:idx for idx,val in enumerate(like_id)}\n",
    "\n",
    "retweet_id = [k for k in computed_ratio['retweet_timestamp'].keys() ]\n",
    "print(len(retweet_id))\n",
    "dictionnary_rt = { val:idx for idx,val in enumerate(retweet_id)}\n",
    "\n",
    "rtc_id = [ k for k in computed_ratio['retweet_with_comment_timestamp'].keys() ]\n",
    "print(len(rtc_id))\n",
    "dictionnary_rtc = { val:idx for idx,val in enumerate(rtc_id)}\n",
    "\n",
    "reply_id = [k for k in computed_ratio['reply_timestamp'].keys() ]\n",
    "print(len(reply_id))\n",
    "dictionnary_rpl = { val:idx for idx,val in enumerate(reply_id)}\n",
    "\n",
    "\n",
    "with gzip.open('/home/maxime/Desktop/RecSys2020/trends/domains_influence.pkl.gz','wb') as f:\n",
    "    pkl.dump(dictionnary_lk, f)\n",
    "    pkl.dump(dictionnary_rt, f)\n"
   ]
  },
  {
   "cell_type": "code",
   "execution_count": null,
   "metadata": {},
   "outputs": [],
   "source": []
  }
 ],
 "metadata": {
  "kernelspec": {
   "display_name": "Python 3",
   "language": "python",
   "name": "python3"
  },
  "language_info": {
   "codemirror_mode": {
    "name": "ipython",
    "version": 3
   },
   "file_extension": ".py",
   "mimetype": "text/x-python",
   "name": "python",
   "nbconvert_exporter": "python",
   "pygments_lexer": "ipython3",
   "version": "3.6.10"
  }
 },
 "nbformat": 4,
 "nbformat_minor": 4
}
